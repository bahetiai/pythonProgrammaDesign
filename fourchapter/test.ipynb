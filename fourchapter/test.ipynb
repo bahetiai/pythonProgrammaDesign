{
 "cells": [
  {
   "cell_type": "code",
   "execution_count": 1,
   "metadata": {
    "collapsed": true
   },
   "outputs": [
    {
     "name": "stdout",
     "output_type": "stream",
     "text": [
      "登陆成功\n"
     ]
    }
   ],
   "source": []
  },
  {
   "cell_type": "code",
   "execution_count": 6,
   "outputs": [
    {
     "name": "stdout",
     "output_type": "stream",
     "text": [
      "BMI数值为:27.04\n",
      "BMI指标为:国际'偏胖',国内'偏胖'\n"
     ]
    }
   ],
   "source": [
    "# 编写程序计算如下数列的值：‪‬‪‬‪‬‪‬‪‬‮‬‪‬‫‬‪‬‪‬‪‬‪‬‪‬‮‬‪‬‪‬‪‬‪‬‪‬‪‬‪‬‮‬‭‬‪‬‪‬‪‬‪‬‪‬‪‬‮‬‭‬‫‬‪‬‪‬‪‬‪‬‪‬‮‬‪‬‭‬‪‬‪‬‪‬‪‬‪‬‮‬‭‬‪‬\n",
    "#\n",
    "# 1-2+3-4...966‪‬‪‬‪‬‪‬‪‬‮‬‪‬‫‬‪‬‪‬‪‬‪‬‪‬‮‬‪‬‪‬‪‬‪‬‪‬‪‬‪‬‮‬‭‬‪‬‪‬‪‬‪‬‪‬‪‬‮‬‭‬‫‬‪‬‪‬‪‬‪‬‪‬‮‬‪‬‭‬‪‬‪‬‪‬‪‬‪‬‮‬‭‬‪‬\n",
    "sum = 0\n",
    "flag = 1\n",
    "for i in range(1, 967, 1):\n",
    "\tsum += flag * i\n",
    "\tflag = -flag\n",
    "print(sum)"
   ],
   "metadata": {
    "collapsed": false,
    "pycharm": {
     "name": "#%%\n"
    }
   }
  },
  {
   "cell_type": "code",
   "execution_count": null,
   "outputs": [],
   "source": [
    "# 三位水仙花数\n",
    "# 描述\n",
    "# \"水仙花数\"是指一个三位整数，其各位数字的3次方和等于该数本身。‪‬‪‬‪‬‪‬‪‬‮‬‪‬‫‬‪‬‪‬‪‬‪‬‪‬‮‬‪‬‪‬‪‬‪‬‪‬‪‬‪‬‮‬‭‬‪‬‪‬‪‬‪‬‪‬‪‬‮‬‭‬‫‬‪‬‪‬‪‬‪‬‪‬‮‬‪‬‭‬‪‬‪‬‪‬‪‬‪‬‮‬‭‬‪‬\n",
    "# 例如：ABC是一个\"3位水仙花数\"，则：A的3次方＋B的3次方＋C的3次方 = ABC。‪‬‪‬‪‬‪‬‪‬‮‬‫‬‫‬‪‬‪‬‪‬‪‬‪‬‮‬‭‬‪‬‪‬‪‬‪‬‪‬‪‬‮‬‪‬‫‬‪‬‪‬‪‬‪‬‪‬‮‬‪‬‪‬‪‬‪‬‪‬‪‬‪‬‮‬‭‬‪‬‪‬‪‬‪‬‪‬‪‬‮‬‭‬‫‬‪‬‪‬‪‬‪‬‪‬‮‬‪‬‭‬‪‬‪‬‪‬‪‬‪‬‮‬‭‬‪‬\n",
    "\n",
    "flag = 0\n",
    "for i in range(100, 1000, 1):\n",
    "    hundred = i//100\n",
    "    ten = i%100//10\n",
    "    unit = i%10\n",
    "    if unit**3 + ten**3 + hundred**3 == i:\n",
    "        if flag == 1:\n",
    "            print(\",\", end=\"\")\n",
    "        print(i, end=\"\")\n",
    "        if flag == 0:\n",
    "            flag = 1"
   ],
   "metadata": {
    "collapsed": false,
    "pycharm": {
     "name": "#%%\n"
    }
   }
  },
  {
   "cell_type": "code",
   "execution_count": 7,
   "outputs": [
    {
     "name": "stdout",
     "output_type": "stream",
     "text": [
      "登陆成功\n"
     ]
    }
   ],
   "source": [
    "# 用户登录的三次机会\n",
    "# 给用户三次输入用户名和密码的机会，要求如下：‪‬‪‬‪‬‪‬‪‬‮‬‪‬‫‬‪‬‪‬‪‬‪‬‪‬‮‬‪‬‪‬‪‬‪‬‪‬‪‬‪‬‮‬‭‬‪‬‪‬‪‬‪‬‪‬‪‬‮‬‭‬‫‬‪‬‪‬‪‬‪‬‪‬‮‬‪‬‭‬‪‬‪‬‪‬‪‬‪‬‮‬‭‬‪‬\n",
    "# 1）如输入第一行输入用户名为‘Kate’,第二行输入密码为‘666666’，输出‘登录成功！’，退出程序；‪‬‪‬‪‬‪‬‪‬‮‬‪‬‫‬‪‬‪‬‪‬‪‬‪‬‮‬‪‬‪‬‪‬‪‬‪‬‪‬‪‬‮‬‭‬‪‬‪‬‪‬‪‬‪‬‪‬‮‬‭‬‫‬‪‬‪‬‪‬‪‬‪‬‮‬‪‬‭‬‪‬‪‬‪‬‪‬‪‬‮‬‭‬‪‬\n",
    "# 2）当一共有3次输入用户名或密码不正确输出“3次用户名或者密码均有误！退出程序。”。\n",
    "cnt =0\n",
    "while 1:\n",
    "    name =input()\n",
    "    pwd =input()\n",
    "    if name =='Kate' and pwd =='666666':\n",
    "        print(\"登陆成功\")\n",
    "        break\n",
    "    else:\n",
    "        cnt +=1\n",
    "        if cnt ==3:\n",
    "            print('3次用户名或者密码均有误！退出程序。')\n",
    "            break\n"
   ],
   "metadata": {
    "collapsed": false,
    "pycharm": {
     "name": "#%%\n"
    }
   }
  },
  {
   "cell_type": "code",
   "execution_count": null,
   "outputs": [],
   "source": [
    "# 身体质量指数BMI\n",
    "height, weight = eval(input())\n",
    "bmi = weight / pow(height, 2)\n",
    "print(\"BMI数值为:{:.2f}\".format(bmi))\n",
    "who, nat = \"\", \"\"\n",
    "if bmi < 18.5:\n",
    "    who, nat = \"偏瘦\", \"偏瘦\"\n",
    "elif 18.5 <= bmi < 24:\n",
    "    who, nat = \"正常\", \"正常\"\n",
    "elif 24 <= bmi < 25:\n",
    "    who, nat = \"正常\", \"偏胖\"\n",
    "elif 25 <= bmi < 28:\n",
    "    who, nat = \"偏胖\", \"偏胖\"\n",
    "elif 28 <= bmi < 30:\n",
    "    who, nat = \"偏胖\", \"肥胖\"\n",
    "else:\n",
    "    who, nat = \"肥胖\", \"肥胖\"\n",
    "print(\"BMI指标为:国际'{0}',国内'{1}'\".format(who, nat))\n"
   ],
   "metadata": {
    "collapsed": false,
    "pycharm": {
     "name": "#%%\n"
    }
   }
  }
 ],
 "metadata": {
  "kernelspec": {
   "display_name": "Python 3",
   "language": "python",
   "name": "python3"
  },
  "language_info": {
   "codemirror_mode": {
    "name": "ipython",
    "version": 2
   },
   "file_extension": ".py",
   "mimetype": "text/x-python",
   "name": "python",
   "nbconvert_exporter": "python",
   "pygments_lexer": "ipython2",
   "version": "2.7.6"
  }
 },
 "nbformat": 4,
 "nbformat_minor": 0
}