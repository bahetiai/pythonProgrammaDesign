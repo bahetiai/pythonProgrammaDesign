{
 "cells": [
  {
   "cell_type": "code",
   "execution_count": 6,
   "metadata": {
    "collapsed": true
   },
   "outputs": [
    {
     "ename": "SyntaxError",
     "evalue": "unexpected EOF while parsing (<string>, line 1)",
     "output_type": "error",
     "traceback": [
      "Traceback \u001B[1;36m(most recent call last)\u001B[0m:\n",
      "  File \u001B[0;32m\"d:\\software\\python\\python37\\lib\\site-packages\\IPython\\core\\interactiveshell.py\"\u001B[0m, line \u001B[0;32m3441\u001B[0m, in \u001B[0;35mrun_code\u001B[0m\n    exec(code_obj, self.user_global_ns, self.user_ns)\n",
      "\u001B[1;36m  File \u001B[1;32m\"<ipython-input-6-1bb5151f5e0b>\"\u001B[1;36m, line \u001B[1;32m4\u001B[1;36m, in \u001B[1;35m<module>\u001B[1;36m\u001B[0m\n\u001B[1;33m    C =(eval(TempStr[0:-1]) -32)/1.8\u001B[0m\n",
      "\u001B[1;36m  File \u001B[1;32m\"<string>\"\u001B[1;36m, line \u001B[1;32m1\u001B[0m\n\u001B[1;33m    12F\u001B[0m\n\u001B[1;37m      ^\u001B[0m\n\u001B[1;31mSyntaxError\u001B[0m\u001B[1;31m:\u001B[0m unexpected EOF while parsing\n"
     ]
    }
   ],
   "source": [
    "# 温度转换1\n",
    "TempStr =input(\"请输入带有符号的温度值：\")\n",
    "if  TempStr[-1] in ['F','f']:\n",
    "    C =(eval(TempStr[0:-1]) -32)/1.8\n",
    "    print('转换后的温度{:.2f}C'.format(C))\n",
    "elif TempStr[-1] in ['C' ,'c']:\n",
    "    F =1.8 *eval(TempStr[0:-1]) +32\n",
    "    print('转换后的温度{:.2f}F'.format(F))\n",
    "else:\n",
    "    print('格式错误')"
   ]
  },
  {
   "cell_type": "code",
   "execution_count": 8,
   "outputs": [
    {
     "name": "stdout",
     "output_type": "stream",
     "text": [
      "12FF\n"
     ]
    },
    {
     "ename": "SyntaxError",
     "evalue": "unexpected EOF while parsing (<string>, line 1)",
     "output_type": "error",
     "traceback": [
      "Traceback \u001B[1;36m(most recent call last)\u001B[0m:\n",
      "  File \u001B[0;32m\"d:\\software\\python\\python37\\lib\\site-packages\\IPython\\core\\interactiveshell.py\"\u001B[0m, line \u001B[0;32m3441\u001B[0m, in \u001B[0;35mrun_code\u001B[0m\n    exec(code_obj, self.user_global_ns, self.user_ns)\n",
      "\u001B[1;36m  File \u001B[1;32m\"<ipython-input-8-652f22c03ed2>\"\u001B[1;36m, line \u001B[1;32m7\u001B[1;36m, in \u001B[1;35m<module>\u001B[1;36m\u001B[0m\n\u001B[1;33m    C =(eval(TempStr[0:-1])-32)/1.8\u001B[0m\n",
      "\u001B[1;36m  File \u001B[1;32m\"<string>\"\u001B[1;36m, line \u001B[1;32m1\u001B[0m\n\u001B[1;33m    12F\u001B[0m\n\u001B[1;37m      ^\u001B[0m\n\u001B[1;31mSyntaxError\u001B[0m\u001B[1;31m:\u001B[0m unexpected EOF while parsing\n"
     ]
    }
   ],
   "source": [
    "#温度转换2\n",
    "TempStr =input(\"请输入带有符号的温度值(F/C)：\")\n",
    "TempStrlast = TempStr[-1].lower()\n",
    "print(TempStr)\n",
    "if TempStrlast == \"f\" :\n",
    "    C =(eval(TempStr[0:-1])-32)/1.8\n",
    "    print(f\"转换温度值为{round(C,2)}C\")\n",
    "elif TempStrlast ==\"c\":\n",
    "    F =1.8 * eval(TempStr[0:-1]) +32\n",
    "    print(f\"转换温度值为{round(F,2)}F\")\n",
    "else:\n",
    "    print('格式错误')\n"
   ],
   "metadata": {
    "collapsed": false,
    "pycharm": {
     "name": "#%%\n"
    }
   }
  }
 ],
 "metadata": {
  "kernelspec": {
   "display_name": "Python 3",
   "language": "python",
   "name": "python3"
  },
  "language_info": {
   "codemirror_mode": {
    "name": "ipython",
    "version": 2
   },
   "file_extension": ".py",
   "mimetype": "text/x-python",
   "name": "python",
   "nbconvert_exporter": "python",
   "pygments_lexer": "ipython2",
   "version": "2.7.6"
  }
 },
 "nbformat": 4,
 "nbformat_minor": 0
}